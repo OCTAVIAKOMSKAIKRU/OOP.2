{
  "nbformat": 4,
  "nbformat_minor": 0,
  "metadata": {
    "colab": {
      "name": "OOP PYTHON",
      "provenance": [],
      "collapsed_sections": []
    },
    "kernelspec": {
      "name": "python3",
      "display_name": "Python 3"
    },
    "language_info": {
      "name": "python"
    }
  },
  "cells": [
    {
      "cell_type": "code",
      "execution_count": null,
      "metadata": {
        "id": "cnp5u4-NF6Si"
      },
      "outputs": [],
      "source": [
        "# Object Oriented Programming with pyhton\n",
        "\n",
        "# Concets we find in OOP :\n",
        "      # Abstraction\n",
        "      # Polymorphism\n",
        "      # Encapsulation\n",
        "      # Attributes and Objects\n",
        "      # Abstract classes\n",
        "      # Method kinds"
      ]
    },
    {
      "cell_type": "code",
      "source": [
        "# To learn OOP we will be creating a function to learn from while adding certain complexities we need to know about the program"
      ],
      "metadata": {
        "id": "dtduHPUAG7wh"
      },
      "execution_count": null,
      "outputs": []
    },
    {
      "cell_type": "code",
      "source": [
        "# Basic Pyhton skills we should have basic knowledge of are :\n",
        "     # Variables\n",
        "     # If Statements\n",
        "     # Functions\n",
        "     # For Loops"
      ],
      "metadata": {
        "id": "gmNUyzuzHSYy"
      },
      "execution_count": null,
      "outputs": []
    },
    {
      "cell_type": "code",
      "source": [
        "# We  will be learning it through mainy a type of \"STORE MANAGEMENT SYSTEM\" , that we will add certain instenses,methods etc. as we go along.\n",
        "\n"
      ],
      "metadata": {
        "id": "w_0iVPG-Hrvf"
      },
      "execution_count": null,
      "outputs": []
    },
    {
      "cell_type": "code",
      "source": [
        "# How to assign attributes into instences (Datatype) \n",
        "\n",
        "class item:\n",
        "  def caculate_total_price(self ,x ,y):\n",
        "   return x * y\n",
        "\n",
        "\n",
        "item1 = item() #instence/datatype\n",
        "item1.name = \"chowder\" #str\n",
        "item1.price = 100000000 #int\n",
        "item1.quantity = 2 #int\n",
        "print(item1.caculate_total_price(item1.price , item1.quantity))\n",
        "\n",
        "item2 = item()\n",
        "item2.name = \"batman\"\n",
        "item2.price = 777\n",
        "item2.quantity = 2\n",
        "print(item2.caculate_total_price(item2.price , item2.quantity))\n",
        "\n",
        "# Now we are going to create mathods and add them to our instences inside our class,\n",
        "\n",
        "# We are going to be creating a method called \"caculate_total_price\", \n",
        "\n",
        "# Because it would be a very equivilant method for our instence.\n",
        "\n",
        "# Your methods should always concede parameters. E.g \n",
        "      \n",
        "    #TypeERROR: caculatetotalprice() takes 0 positional arguments but 1 was given. \n",
        "\n",
        "# When you finally in a workplace enviroment, never mess up common convensions** (self)"
      ],
      "metadata": {
        "colab": {
          "base_uri": "https://localhost:8080/"
        },
        "id": "2p0wFjgAIqHP",
        "outputId": "17312e1a-0a3a-4fa0-a53f-e44da4905172"
      },
      "execution_count": null,
      "outputs": [
        {
          "output_type": "stream",
          "name": "stdout",
          "text": [
            "200000000\n",
            "1554\n"
          ]
        }
      ]
    },
    {
      "cell_type": "code",
      "source": [
        "# In OOP we are going to encounter certain problems that will need a unique method,\n",
        "\n",
        "# This unique methods are called \"Magic methods\"\n",
        "\n",
        "# The one we are going to be using first is the \"__init__\" method function,\n",
        "\n",
        "# It will allow us to successfully instanciate an instance instantly.\n",
        "\n",
        "# You should always construct your attributes under the method\n",
        "\n",
        "\n",
        "class item:\n",
        "  def __init__(self, name:str, price:float, quantity=0):\n",
        "   self.name = name\n",
        "   self.price = price\n",
        "   self.quantity = quantity\n",
        "  def caculate_total_price (self):\n",
        "    return self.price * self.quantity\n",
        "\n",
        "item1 = item(\"chowder\" ,100000000 ,2)\n",
        "\n",
        "item2 = item(\"batman\" ,777, 2)\n",
        "\n",
        "print(item1.name)\n",
        "print(item2.name)\n",
        "print(item1.price)\n",
        "print(item2.price)\n",
        "print(item1.quantity)\n",
        "print(item2.quantity)\n",
        "\n",
        "print(item1.caculate_total_price())\n",
        "print(item2.caculate_total_price())"
      ],
      "metadata": {
        "colab": {
          "base_uri": "https://localhost:8080/"
        },
        "id": "qlhNo-jkTsBs",
        "outputId": "84ec8dc3-05cc-4e5b-8cb1-c8d497a23295"
      },
      "execution_count": null,
      "outputs": [
        {
          "output_type": "stream",
          "name": "stdout",
          "text": [
            "chowder\n",
            "batman\n",
            "100000000\n",
            "777\n",
            "2\n",
            "2\n",
            "200000000\n",
            "1554\n"
          ]
        }
      ]
    },
    {
      "cell_type": "code",
      "source": [
        "# You can assign attributes to instences individually\n",
        "\n",
        "# You can also add on the type ins (init function) by using colon.\n",
        "\n",
        "# Then if we want to expand our innit function we could use validation methods to assert out arguments arent against our expectence,\n",
        "\n",
        "# By using \"Assert statements\".\n",
        "\n",
        "# It is a statement keyword that uses the matches and evaluates them to your expectations.\n",
        "\n",
        "\n",
        "class Item :\n",
        "  def __init__(self ,name:str , price:float , quantity= 0):\n",
        "    #Running Validations\n",
        "    assert price >= 0, f\"Price {price} is nnot greater than or equal to 0\"\n",
        "    assert quantity >= 0, f\"Quantity {quantity} is not greater than or equal to 0\"\n",
        "\n",
        "    #Assigned Objects\n",
        "    self.name = name\n",
        "    self.price = price\n",
        "    self.quantity = quantity\n",
        "\n",
        "  def caculate_total_price(self):\n",
        "    return self.price * self.quantity\n",
        "\n",
        "Item1 = Item(\"chowder\" , 45.3 , 3)\n",
        "Item2 = Item(\"Batman\" , 2 , 2)\n",
        "\n",
        "print(Item1.caculate_total_price())\n",
        "print(Item2.caculate_total_price()) \n",
        "\n",
        "# So if your code were to run and give a number less than 0 , if will then give back an \"ASSERTION ERROR\""
      ],
      "metadata": {
        "id": "3IgBylHiZnkU",
        "colab": {
          "base_uri": "https://localhost:8080/"
        },
        "outputId": "0c3e12ef-9aa3-4b3a-ee62-220a88d2cad0"
      },
      "execution_count": null,
      "outputs": [
        {
          "output_type": "stream",
          "name": "stdout",
          "text": [
            "135.89999999999998\n",
            "4\n"
          ]
        }
      ]
    },
    {
      "cell_type": "code",
      "source": [
        " # Then if you want to have access to certain elements in your instances or classes you could use a \"__dict__\" function.\n",
        "\n",
        " # This will allow you to access this instance or class by way of a dictionary python function.\n",
        "\n",
        "\n",
        " # In order for us to increase our learning capabilty we are going to construct a very formal and assertive class function.\n",
        "\n",
        " # We wiil have to assign a real life situation to our learning more time from now on.\n",
        "\n",
        " # E.g Reference from FREECODECAMP.youtube (OOP WITH PYTHON)\n",
        "    # We had made a small online store back home that sold items at a small quantity and cheap price to the community to raise funds to buy certain things needed back home.\n",
        "    # We sell two different items shoes(ITEM1) and socks(ITEM2).\n",
        "    # The price for the shoes are R50 and R20 for every per socks.\n",
        "    # The quantity per month is 100 each.\n",
        "    # The only discount we have 25% of total price if you buy R60 worth of socks.\n",
        "\n",
        "\n",
        "class Item :\n",
        "  pay_rate = 0.45        # Pay_rate applied after the discount of 25%\n",
        "  def __init__(self,name: str, price: float , quantity= 0):\n",
        "    #Running Validations\n",
        "    assert price >= 0, f\"Price {price} is not greater or equal to 0\"\n",
        "    assert quantity >= 0, f\"Quantity {quantity} is not greater than or eaual to 0\"\n",
        "\n",
        "\n",
        "    #Assign objects\n",
        "    self.name = name\n",
        "    self.price = price\n",
        "    self.quantity = quantity\n",
        "\n",
        "  def caculate_total_price(self):\n",
        "    return self.price * self.quantity\n",
        "\n",
        "  def apply_discount(self):\n",
        "    self.price = self.price * self.pay_rate\n",
        "\n",
        "Item1 = Item(\"Shoes\" ,50 ,80)  # So for a particular month we sold 80 pers of shoes.\n",
        "print(Item1.caculate_total_price())\n",
        "\n",
        "Item2 = Item(\"Socks\" ,100 ,100) # ..and sold out on socks.\n",
        "Item2.pay_rate = 0.45\n",
        "Item2.apply_discount()\n",
        "print(Item2.price)\n",
        "\n",
        "\n"
      ],
      "metadata": {
        "colab": {
          "base_uri": "https://localhost:8080/"
        },
        "id": "QCwvsv5es8Np",
        "outputId": "28aac1bd-b0e3-43a6-bfef-3ff350eac1a1"
      },
      "execution_count": null,
      "outputs": [
        {
          "output_type": "stream",
          "name": "stdout",
          "text": [
            "4000\n",
            "45.0\n"
          ]
        }
      ]
    },
    {
      "cell_type": "code",
      "source": [
        "# To expand our application we had to add a few more instences(ITEMS) to our class method and in doing this, we will encounter certain problems.\n",
        "\n",
        "# The problem would be to accsess these new instences from a class method and dealing with displaying our data using a \"CSV file\"\n",
        "\n",
        "class Item:\n",
        "  pay_rate = 0.45\n",
        "  all = [] \n",
        "    # Runnning validations\n",
        "  def __init__ (self, name:str ,price:float , quantity=0):\n",
        "    assert price >= 0, f\"Price{price} is not greater or equal to 0\"\n",
        "    assert quantity >= 0, f\"Quantity{quantity} is not greater or equal to 0\"\n",
        "\n",
        "    # Assigning our objects\n",
        "    self.name = name\n",
        "    self.price = price\n",
        "    self.quantity = quantity\n",
        "\n",
        "    # Actions to exacute\n",
        "    Item.all.append(self)\n",
        "\n",
        "\n",
        "  def caculate_total_price(self):\n",
        "    return self.price * self.quantity\n",
        "\n",
        "\n",
        "  def apply_discount(self):\n",
        "    self.price = self.price * self.quantity\n",
        "\n",
        "\n",
        "  def __repr__(self):\n",
        "    return f\"Item('{self.name}',{self.price} ,{self.quantiy})\"\n",
        "\n",
        "\n",
        "Item1 = (\"shoes\", 50, 80)\n",
        "Item2 = (\"socks\", 100, 100)\n",
        "Item3 = (\"Underwear\",25 ,50)\n",
        "Item4 = (\"T-shirts\", 100, 10)\n",
        "\n",
        "print(Item.all)\n",
        "\n",
        "# We had to have a resource or list to give a report on the instences of each class.\n",
        "\n",
        "# We used a class attribute called \"ALL\" and appending it under our init method.\n",
        "\n",
        "# In order for the output to be user freindly we can also use another magic method named (__repr__())"
      ],
      "metadata": {
        "colab": {
          "base_uri": "https://localhost:8080/"
        },
        "id": "KUmYb4y5BIgK",
        "outputId": "421212d2-1264-4cd6-f5b9-a2a926adf808"
      },
      "execution_count": null,
      "outputs": [
        {
          "output_type": "stream",
          "name": "stdout",
          "text": [
            "[]\n"
          ]
        }
      ]
    },
    {
      "cell_type": "code",
      "source": [
        "# Another problem that may occur during the expansion is our need to contain certain instences in a database or csv file.\n",
        "\n",
        "# We can store values comma seperated in a csv file and represent the same data.\n",
        "\n",
        "# They are stored in columns.\n",
        "\n",
        "# A very common way to view friendly data.\n",
        "\n",
        "# We than instantiate the csv file in a form of a method and using a specific a method in that case,\n",
        "\n",
        "# A \"CLASS METHOD\".\n",
        "\n",
        "# A class mehod can be only accessed in the class only (cls) and you'll need a decorater to change the behaviour(@classmethod)\n",
        "\n",
        "# The decorater will be coded above the above the selcted method.\n",
        "\n",
        "# We are going to import our csv (placed above class method).\n",
        "\n",
        "import csv\n",
        "\n",
        "class Item:\n",
        "    all =[]\n",
        "\n",
        "#Running validations\n",
        "\n",
        "def __init__ (self, name: str, price: float, quantity =0):\n",
        "  assert price >= 0, f\"Price {price} is not greater nor equal to 0\"\n",
        "  assert quantity >= 0, f\"Quantity {quantity} is not greater nor equal to 0\"\n",
        "\n",
        "# Assign objects\n",
        "  self.name = name\n",
        "  self.price = price\n",
        "  self.quantity = quantity\n",
        "\n",
        "# Action to exacute\n",
        "  Item.all.append(self)\n",
        "\n",
        "\n",
        "\n",
        "def cacualte_total_price(self):\n",
        "  return self.price * self.quantity\n",
        "\n",
        "\n",
        "def apply_discount(self):\n",
        "  self.price = self.price * self.quantity\n",
        "\n",
        "\n",
        "\n",
        "@classmethod\n",
        "def instantiate_from_csv(cls):\n",
        "  with open ('items.csv', 'r') as f:\n",
        "    reader = csv.DictReader(f)\n",
        "    items = list(reader)\n",
        "\n",
        "\n",
        "  for item in items:\n",
        "    Item(\n",
        "       name =item.get('name'),\n",
        "       price =float(item.get('price')) ,\n",
        "       quantity =int(item.get('quantity')),\n",
        "    )\n",
        "\n",
        "\n",
        "def __repr__(self):\n",
        "  return f\"Item('{self.name}' ,{self.price} , {self.quantity})\"\n",
        "  \n",
        "\n",
        "Item.instantiate_from_csv() \n",
        "print(item.all)\n",
        "\n",
        "# the code is not gonna rude due to the fact i have not imported the csv file unto this google colabatory.\n",
        "\n",
        "# Will work on importing it soon once i get the hang of it.\n",
        "\n",
        "#To check if your items have decimals or is just a interger as answers,\n",
        "\n",
        "# You will have to use a \"STATIC METHOD\"\n"
      ],
      "metadata": {
        "id": "J92FjOcHYi-L"
      },
      "execution_count": null,
      "outputs": []
    },
    {
      "cell_type": "code",
      "source": [
        "# You use \"if statements\" when working with this method.\n",
        "\n",
        "# You can place your static method under your class method.\n",
        "class is_integer:\n",
        "  def __init__(self, name = str):\n",
        "    \n",
        "    self.name = name\n",
        "    \n",
        "    is_integer.append(self)\n",
        "\n",
        "  @staticmethod\n",
        "  def is_integer(num):\n",
        "  # We are eliminating decimals\n",
        "        if isinstance(num ,float):       # \" isinstance is a built-in function that allows us to argure two objects \"\n",
        "         return num.is_integer()\n",
        "        elif isinstance(num, int):\n",
        "         return True\n",
        "        else:\n",
        "         return False\n",
        "\n",
        "print(Item.is_integer(5))\n",
        "\n"
      ],
      "metadata": {
        "colab": {
          "base_uri": "https://localhost:8080/"
        },
        "id": "Qhbyjaf8Yr9t",
        "outputId": "5490475a-25ec-4acd-8b34-4acb46cfa1bb"
      },
      "execution_count": null,
      "outputs": [
        {
          "output_type": "stream",
          "name": "stdout",
          "text": [
            "True\n"
          ]
        }
      ]
    },
    {
      "cell_type": "code",
      "source": [
        "# We are now going to expand our knowledge further by learning a vital attribute called \"INHERITENCE\",\n",
        "\n",
        "# Inheritence is used to inherit data from one class to another to represent the different kinds of objects we may have.\n",
        "\n",
        "# So basically the classes we (CHILD CLASSESS) inherit from are called \"PARENT CLASSESS\".\n",
        "\n",
        "# We can use a \"SUPER FUNCTION\" if we dont want to copy and paste in the future and just have full inheritence of the parent class.\n",
        "\n",
        "# For every child class we will use a seperated constructor.\n",
        "\n",
        "\n",
        "from Item import Item       # i AM UNABLE TO RESOLVE THIS AT THE MOMENY. MY BAD.\n",
        "\n",
        "class jewells(Item):\n",
        "  all = []\n",
        "  def __init__ (self,name: str, price: float, quantity =0, jewells =0):\n",
        "    # Running validations\n",
        "    assert jewells >= 0, f\"jewells {jewells} is not greater nor equal to 0\"\n",
        "    assert price >= 0, f\"Price{price} is not greater nor equal to 0\"\n",
        "    assert quantity >= 0, f\"Quantity {quantity} is not greater nor equal to 0\"\n",
        "    \n",
        "    # Assigning self objects\n",
        "    self.name = name\n",
        "    self.jewells = jewells\n",
        "    self.price = price\n",
        "    self.quantity = quantity\n",
        "    \n",
        "    # Execution\n",
        "    jewells.all.append(self)\n",
        "\n",
        "\n",
        "  def caculate_total_price(self):\n",
        "    return self.jewells * self.quantity\n",
        "\n",
        "jewells1 = jewells(\"diamonte\",1000,50,2)\n",
        "print(jewells1.cacualte_total_price())\n",
        "\n",
        "# The \"int\" function has no attribute to \"all\"\n",
        "\n",
        "# Working on debugging this function so that we may be able inherit data from parent classess."
      ],
      "metadata": {
        "id": "INcULA0laasm"
      },
      "execution_count": null,
      "outputs": []
    },
    {
      "cell_type": "code",
      "source": [
        "# When growing your project you may need to then create multiple files including a main.py file.\n",
        "\n",
        "# Which allows us to only instanciate instances from the classess.\n",
        "\n",
        "# from item import Item\n",
        "# from jewells import jewells\n",
        "\n",
        "# Item.instantiate_from_csv\n",
        "\n",
        "# print(item.all)"
      ],
      "metadata": {
        "id": "FfOwjLJz96cJ"
      },
      "execution_count": null,
      "outputs": []
    },
    {
      "cell_type": "code",
      "source": [
        "# Let us say we want to restrict our user'to inpiut their names only once.\n",
        "\n",
        "# Give them the ability to only-read the file of data provided by the instences.\n",
        "\n",
        "# You create this read-only attribute in your class by your (\"STATIC METHOD\") and can only be accessed from there.\n",
        "\n",
        "# This whole process falls under one of the principles namely \"ENCAPSULATION\".\n",
        "\n",
        "# Always put your property decoraters before your function \"@property\"\n",
        "\n",
        "# E.g this will be our experimental parent class called \"Item.py\".\n",
        "\n",
        "import csv\n",
        "\n",
        "\n",
        "\n",
        "class Item:\n",
        "  def __init__(self, name: str, price: float, quantity =0):\n",
        "    # Running validations\n",
        "    assert price >= 0, f\"Price{price} is not greater nor equal to 0\"\n",
        "    assert quantity >= 0, f\"Quantity {quantity} is not greater nor equal to 0\"\n",
        "\n",
        "    # Assigning objects\n",
        "    self.name = name\n",
        "    self.price = price\n",
        "    self.quantity = quantity\n",
        "\n",
        "    # Actions to exacute\n",
        "    Item.all.append(self)\n",
        "\n",
        "    # Property decorater = Read-Only attribute\n",
        "  @property\n",
        "  def name(self):\n",
        "    print(\"You are trying to get\")\n",
        "    return self.__name\n",
        "\n",
        "    # If you were to want to set a new value while attributing to the read-only attribute,\n",
        "\n",
        "    # You gonna have to use the \"SETTER METHOD/ATTRIBUTE\".\n",
        "\n",
        "    # by doing this we allow our user to set a new name(value)\n",
        "\n",
        "  @name.setter\n",
        "  def name(self, value):\n",
        "    print(\"you are trying to set\")\n",
        "\n",
        "   # Then if we try restrict the length of the value to a set amount.\n",
        "    if len(value) > 10:\n",
        "      raise Exception(\"Too long\")\n",
        "    else:\n",
        "      self.__name = value\n",
        "\n",
        "  def caculate_total_price(self):\n",
        "    return self.price * self.quantity\n",
        "\n",
        "\n",
        "  def apply_discount(self):\n",
        "    self.price = self.price * self.quantity\n",
        "\n",
        "  @classmethod\n",
        "  def instantiate_from_csv(cls):\n",
        "    with open ('items.csv' , 'r') as f:\n",
        "      reader = csv.DictReader(f)\n",
        "      items = list(reader)\n",
        "\n",
        "\n",
        "\n",
        "    for item in items:\n",
        "      Item(\n",
        "          \n",
        "          name = item.get('name'),\n",
        "          price =float(item.get('price')) ,\n",
        "          quantity = int(item.get('quantity')) ,\n",
        "      )\n",
        "\n",
        "\n",
        "  @staticmethod\n",
        "  def is_interger(num):\n",
        "    if isinstance(num):\n",
        "      return num.is_integer()\n",
        "    elif isinstance(num, int):\n",
        "      return True\n",
        "    else:\n",
        "      return False\n",
        "\n",
        "  \n",
        "  def __repr__(self):\n",
        "    return f\"Item('{self.name}' ,'{self.price}' , '{self.quantity}')\"\n",
        "\n",
        "\n",
        "  Item.instantiate_from_csv()\n",
        "  print(item.all)\n",
        "\n",
        "\n",
        "# We then create a file for this function called \"main.py\" .\n",
        "\n",
        "# Then create an another file where we can add and modify instences by using the \"import\" function."
      ],
      "metadata": {
        "id": "KN_kjd4kB22w"
      },
      "execution_count": null,
      "outputs": []
    },
    {
      "cell_type": "code",
      "source": [
        "from item import Item \n",
        "\n",
        "item1 = Item(\"MyITEM\" ,700)\n",
        "# Setting attribute\n",
        "item1.name = \"Otheritem\"\n",
        "# Output of attribute\n",
        "print(item1.name)\n",
        "\n",
        "# To set an read-only function on your items and only allow customers to enter the name of once.\n",
        "\n",
        "# Set it up in our initialization and get errors if we enter more values.\n",
        "\n",
        "# To set this up you gonna have to access the \"Item.py file\" and modify it just under your functions."
      ],
      "metadata": {
        "id": "GWorZIszdCOZ"
      },
      "execution_count": null,
      "outputs": []
    },
    {
      "cell_type": "code",
      "source": [
        "# DEFINING THE PRINCIPLES OF OOP THAT WE HAVE LEARNT EXPLORING ITS CLASSESS AND ATTRIBUTES FOR OUR LARGE PROGRAM.\n",
        "\n",
        "#  ENCAPSULATION:\n",
        "        # Encapsuation is a mechanism that restricts the direct attrributes in our program by refacting and setting.\n",
        "\n",
        "#  ABSTRACTION:\n",
        "        # Abstraction allows you to view relevent attributes whilst hiding unecessary information from the user.\n",
        "\n",
        "#  INHERITENCE:\n",
        "        # Inheritence allows us to re-use code from our previous classes.\n",
        "\n",
        "#  POLYMORPHISM:\n",
        "        # Polymorphism refers to a single type entity that represents element different scenerios.\n",
        "        # The abilty to have different scenerios when we call a single entity (entity could be a called function). "
      ],
      "metadata": {
        "id": "jU45P59zqVIp"
      },
      "execution_count": null,
      "outputs": []
    }
  ]
}